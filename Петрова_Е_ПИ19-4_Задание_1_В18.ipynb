{
 "cells": [
  {
   "cell_type": "code",
   "execution_count": 1,
   "metadata": {},
   "outputs": [
    {
     "name": "stderr",
     "output_type": "stream",
     "text": [
      "C:\\ProgramData\\Anaconda3\\lib\\site-packages\\setuptools\\distutils_patch.py:25: UserWarning: Distutils was imported before Setuptools. This usage is discouraged and may exhibit undesirable behaviors or errors. Please use Setuptools' objects directly or at least import Setuptools first.\n",
      "  warnings.warn(\n"
     ]
    }
   ],
   "source": [
    "import numpy as np\n",
    "from numpy import linalg as LA\n",
    "from random import randrange as rg\n",
    "from setuptools.namespaces import flatten\n",
    "import matplotlib.pyplot as plt"
   ]
  },
  {
   "cell_type": "code",
   "execution_count": 20,
   "metadata": {},
   "outputs": [
    {
     "name": "stdout",
     "output_type": "stream",
     "text": [
      "Введите размерность матрицы: 6\n",
      "\n",
      "Матрица потребителей: \n",
      " [[ 82  89 109 109  89  16]\n",
      " [ 33  25  39  16  29  22]\n",
      " [104  77  67 103  63 104]\n",
      " [ 92  15  71  63  75 105]\n",
      " [ 21  24  48  73  74   1]\n",
      " [ 32  60  67 108  95  97]]\n",
      "\n",
      "Матрица конечного потребления: \n",
      " [[ 16]\n",
      " [ 22]\n",
      " [104]\n",
      " [105]\n",
      " [  1]\n",
      " [ 97]]\n"
     ]
    }
   ],
   "source": [
    "def matrix_create (N, data_type = \"float\"):\n",
    "    data = np.random.randint(1, 110, size = (N, N))       \n",
    "    \n",
    "    matrix = data[:, :N]\n",
    "    Y = data[:,-1].reshape(N, 1)\n",
    "    return data, Y, matrix\n",
    "\n",
    "try:\n",
    "    matrix_Y, Y, matrix = matrix_create(int(input(\"Введите размерность матрицы: \")))\n",
    "except ValueError:\n",
    "    print(\"Ошибка ввода.\")\n",
    "except KeyboardInterrupt:\n",
    "    print(\"Прервано пользователем.\")\n",
    "\n",
    "print(\"\\nМатрица потребителей: \\n\", matrix)\n",
    "print(\"\\nМатрица конечного потребления: \\n\", Y)"
   ]
  },
  {
   "cell_type": "code",
   "execution_count": 23,
   "metadata": {},
   "outputs": [
    {
     "name": "stdout",
     "output_type": "stream",
     "text": [
      "Введите коэффициент для увеличения конечного потребления: 2\n",
      "Введите номера выбранных отраслей по порядку и через запятую: 1\n",
      "\n",
      " Матрица после увелечения конечного потребления: \n",
      " [[ 16]\n",
      " [ 44]\n",
      " [104]\n",
      " [105]\n",
      " [  1]\n",
      " [ 97]]\n"
     ]
    }
   ],
   "source": [
    "def matrix_consumption(Y, grow, K): \n",
    "    grow = list(set(grow))\n",
    "    \n",
    "    for i in range(len(grow)):\n",
    "        if grow[i] >= len(Y):\n",
    "            print(\"Неправильные входные данные\")\n",
    "            return\n",
    "        \n",
    "    value_grow = np.copy(Y) \n",
    "    \n",
    "    for i in range(len(grow)):\n",
    "        value_grow[grow[i]] = value_grow[grow[i]] * K #parametr показывает изменение - во сколько раз изменилась цена у отраслей\n",
    "    return value_grow\n",
    "\n",
    "try:\n",
    "    K = float(input(\"Введите коэффициент для увеличения конечного потребления: \")) #в задаче в 2 раза\n",
    "    grow = input(\"Введите номера выбранных отраслей по порядку и через запятую: \")\n",
    "    grow = list(map(int, grow.split(\",\")))\n",
    "    Y2 = matrix_consumption(Y, grow, K)\n",
    "    print(\"\\n Матрица после увелечения конечного потребления: \\n\", Y2)\n",
    "    \n",
    "except ValueError:\n",
    "    print(\"Ошибка ввода.\")\n",
    "except KeyboardInterrupt:\n",
    "    print(\"Прервано пользователем.\")"
   ]
  },
  {
   "cell_type": "code",
   "execution_count": 24,
   "metadata": {},
   "outputs": [
    {
     "name": "stdout",
     "output_type": "stream",
     "text": [
      "Матрица значений валового продукта: \n",
      " [[494]\n",
      " [164]\n",
      " [518]\n",
      " [421]\n",
      " [241]\n",
      " [459]]\n"
     ]
    }
   ],
   "source": [
    "def create_X(matrix):\n",
    "    X = np.array([0] * len(matrix)).reshape(len(matrix), 1)\n",
    "    \n",
    "    for i in range(len(matrix)):\n",
    "        X[i] = sum(matrix[i])\n",
    "    return X\n",
    "\n",
    "X = create_X(matrix_Y)\n",
    "print(\"Матрица значений валового продукта: \\n\", X)"
   ]
  },
  {
   "cell_type": "code",
   "execution_count": 25,
   "metadata": {},
   "outputs": [
    {
     "name": "stdout",
     "output_type": "stream",
     "text": [
      "Матрица прямых затрат: \n",
      " [[0.1659919  0.54268293 0.21042471 0.25890736 0.36929461 0.03485839]\n",
      " [0.06680162 0.15243902 0.07528958 0.03800475 0.12033195 0.04793028]\n",
      " [0.21052632 0.4695122  0.12934363 0.24465558 0.26141079 0.22657952]\n",
      " [0.18623482 0.09146341 0.13706564 0.14964371 0.31120332 0.22875817]\n",
      " [0.04251012 0.14634146 0.09266409 0.17339667 0.30705394 0.00217865]\n",
      " [0.06477733 0.36585366 0.12934363 0.25653207 0.39419087 0.21132898]]\n"
     ]
    }
   ],
   "source": [
    "def create_A(matrix, X):\n",
    "    \n",
    "    A = np.array([[0.] * len(matrix)] * len(matrix))\n",
    "    \n",
    "    for i in range(len(matrix)):\n",
    "        for j in range(len(matrix)):\n",
    "            A[j][i] = matrix[j][i] / X[i]\n",
    "    return A\n",
    "\n",
    "A = create_A(matrix, X)\n",
    "print (\"Матрица прямых затрат: \\n\", A)"
   ]
  },
  {
   "cell_type": "code",
   "execution_count": 30,
   "metadata": {},
   "outputs": [
    {
     "name": "stdout",
     "output_type": "stream",
     "text": [
      "Матрица полных затрат: \n",
      " None\n"
     ]
    }
   ],
   "source": [
    "def create_H(A):\n",
    "    \n",
    "    E = np.eye(len(A)) \n",
    "    \n",
    "    EA = E + A \n",
    "    H = LA.inv(EA)\n",
    "    return H\n",
    "\n",
    "\n",
    "H = create_H(A)\n",
    "\n",
    "print (\"Матрица полных затрат: \\n\", H)"
   ]
  },
  {
   "cell_type": "code",
   "execution_count": 27,
   "metadata": {},
   "outputs": [
    {
     "name": "stdout",
     "output_type": "stream",
     "text": [
      "Число Фробениуса =  (1.0000000000000018+0j)\n",
      "\n",
      " 1 - Если Н<0, то матрица А не продуктивна.\n",
      " 2 - Если F<1, то матрица A не продуктивна. \n",
      " 3 - Если F>1 и H>0, то матрица A продуктивна. \n",
      "\n",
      "Матрица A  продуктивна - см. пункт 3.\n"
     ]
    }
   ],
   "source": [
    "w, v = (np.linalg.eig(A))\n",
    "F = max(w, key=abs)\n",
    "print(\"Число Фробениуса = \",F)\n",
    "print(\"\\n 1 - Если Н<0, то матрица А не продуктивна.\\n 2 - Если F<1, то матрица A не продуктивна. \\n 3 - Если F>1 и H>0, то матрица A продуктивна. \\n\")\n",
    "for i in flatten(H):\n",
    "    if i < 0:\n",
    "        print(\"Матрица A не продуктивна - см. пункт 1.\")\n",
    "        break\n",
    "    if i > 0 and F>1:\n",
    "        print(\"Матрица A  продуктивна - см. пункт 3.\")\n",
    "        break\n",
    "    if F<1:\n",
    "        print(\"Матрица A не продуктивна - см. пункт 2.\")\n",
    "        break"
   ]
  },
  {
   "cell_type": "code",
   "execution_count": 28,
   "metadata": {},
   "outputs": [
    {
     "name": "stdout",
     "output_type": "stream",
     "text": [
      "Матрица валового выпуска после увеличения конечного потребления: \n",
      " [[-26.15475278]\n",
      " [ 32.7240882 ]\n",
      " [ 59.18420574]\n",
      " [ 79.76683457]\n",
      " [-16.91590473]\n",
      " [ 53.8848267 ]]\n"
     ]
    }
   ],
   "source": [
    "def create_X2(H, Y2):\n",
    "    X2 = H.dot(Y2)\n",
    "    return X2\n",
    "\n",
    "X2 = create_X2(H, Y2)\n",
    "print (\"Матрица валового выпуска после увеличения конечного потребления: \\n\", X2)"
   ]
  },
  {
   "cell_type": "code",
   "execution_count": 29,
   "metadata": {},
   "outputs": [
    {
     "data": {
      "image/png": "[encoded data removed]",
      "text/plain": [
       "<Figure size 1440x720 with 1 Axes>"
      ]
     },
     "metadata": {
      "needs_background": "light"
     },
     "output_type": "display_data"
    }
   ],
   "source": [
    "labels = [*range(len(matrix))]\n",
    "width = 0.35      \n",
    "fig, ax = plt.subplots(figsize=(20,10))\n",
    "\n",
    "GR_X = X.reshape(1, len(X))[0]\n",
    "GR_X2 = X2.reshape(1, len(X2))[0]\n",
    "ax.bar(labels, GR_X, width, label='Начальный объем')\n",
    "ax.bar(labels, GR_X2, width, label='Измененный объем')\n",
    "\n",
    "ax.set_ylabel(\"Количество продукции\", fontsize=20)\n",
    "ax.set_xticks(labels)\n",
    "ax.set_xlabel(\"Отрасли\", fontsize=20)\n",
    "\n",
    "fig.suptitle(\"График изменения объём валового выпуска для каждой отрасли\", fontsize=30)\n",
    "\n",
    "ax.legend(bbox_to_anchor=(0.5, 1),loc='upper center')\n",
    "\n",
    "plt.show()"
   ]
  },
  {
   "cell_type": "code",
   "execution_count": null,
   "metadata": {},
   "outputs": [],
   "source": []
  }
 ],
 "metadata": {
  "kernelspec": {
   "display_name": "Python 3",
   "language": "python",
   "name": "python3"
  },
  "language_info": {
   "codemirror_mode": {
    "name": "ipython",
    "version": 3
   },
   "file_extension": ".py",
   "mimetype": "text/x-python",
   "name": "python",
   "nbconvert_exporter": "python",
   "pygments_lexer": "ipython3",
   "version": "3.8.3"
  }
 },
 "nbformat": 4,
 "nbformat_minor": 4
}
