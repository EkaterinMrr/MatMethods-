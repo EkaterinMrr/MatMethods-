{
 "cells": [
  {
   "cell_type": "code",
   "execution_count": 14,
   "metadata": {},
   "outputs": [],
   "source": [
    "from pulp import *\n",
    "import pandas as pd"
   ]
  },
  {
   "cell_type": "markdown",
   "metadata": {},
   "source": [
    "### Надо определить:\n",
    "* Поставщиков A1, A2, A3 с запасами a1, a2 , a3 \n",
    "* Потребителей B1, B2, B3, B4, B5 с потребностями b1, b2, b3, b4, b5"
   ]
  },
  {
   "cell_type": "markdown",
   "metadata": {},
   "source": [
    "### Вношу данные и присваиваю:"
   ]
  },
  {
   "cell_type": "code",
   "execution_count": 15,
   "metadata": {},
   "outputs": [],
   "source": [
    "suppliers = [\"A1\", \"A2\", \"A3\"] \n",
    "\n",
    "a1, a2, a3 = 70, 50, 240 \n",
    "\n",
    "supply = {\"A1\": a1, \"A2\": a2, \"A3\" : a3} "
   ]
  },
  {
   "cell_type": "code",
   "execution_count": 17,
   "metadata": {},
   "outputs": [],
   "source": [
    "consumers = [\"B1\", \"B2\", \"B3\", \"B4\"] \n",
    "\n",
    "b1, b2, b3, b4 = 100, 10, 70, 160\n",
    "\n",
    "needs = {\n",
    "    \"B1\": b1,\n",
    "    \"B2\": b2,\n",
    "    \"B3\": b3,\n",
    "    \"B4\": b4,\n",
    "}"
   ]
  },
  {
   "cell_type": "code",
   "execution_count": 18,
   "metadata": {},
   "outputs": [
    {
     "data": {
      "text/plain": [
       "({'A1': 70, 'A2': 50, 'A3': 240}, {'B1': 100, 'B2': 10, 'B3': 70, 'B4': 160})"
      ]
     },
     "execution_count": 18,
     "metadata": {},
     "output_type": "execute_result"
    }
   ],
   "source": [
    "supply, needs"
   ]
  },
  {
   "cell_type": "markdown",
   "metadata": {},
   "source": [
    "#### Проверка на то, что транспортная задача закрытого типа:"
   ]
  },
  {
   "cell_type": "code",
   "execution_count": 19,
   "metadata": {},
   "outputs": [
    {
     "name": "stdout",
     "output_type": "stream",
     "text": [
      "Задача открытого типа.\n"
     ]
    }
   ],
   "source": [
    "if sum(supply.values()) == sum(needs.values()):\n",
    "    print(\"Задача закрытый типа.\")\n",
    "else:\n",
    "    print(\"Задача открытого типа.\")"
   ]
  },
  {
   "cell_type": "markdown",
   "metadata": {},
   "source": [
    "### Матрица тарифов:"
   ]
  },
  {
   "cell_type": "code",
   "execution_count": 20,
   "metadata": {},
   "outputs": [],
   "source": [
    "tariffs = [\n",
    "    [16, 18, 9, 1],\n",
    "    [13, 16, 18, 9],\n",
    "    [14, 23, 12, 7]]\n",
    "\n",
    "tariffs = makeDict([suppliers, consumers], tariffs, 0)"
   ]
  },
  {
   "cell_type": "markdown",
   "metadata": {},
   "source": [
    "### Задача минимизации"
   ]
  },
  {
   "cell_type": "code",
   "execution_count": 21,
   "metadata": {},
   "outputs": [
    {
     "data": {
      "text/plain": [
       "Distribution_Problem:\n",
       "MINIMIZE\n",
       "None\n",
       "VARIABLES"
      ]
     },
     "execution_count": 21,
     "metadata": {},
     "output_type": "execute_result"
    }
   ],
   "source": [
    "model = LpProblem(\"Distribution_Problem\", LpMinimize)\n",
    "model"
   ]
  },
  {
   "cell_type": "markdown",
   "metadata": {},
   "source": [
    "### Целевая функция:"
   ]
  },
  {
   "cell_type": "code",
   "execution_count": 22,
   "metadata": {},
   "outputs": [
    {
     "data": {
      "text/plain": [
       "Distribution_Problem:\n",
       "MINIMIZE\n",
       "16*Количество_товаров_A1_B1 + 18*Количество_товаров_A1_B2 + 9*Количество_товаров_A1_B3 + 1*Количество_товаров_A1_B4 + 13*Количество_товаров_A2_B1 + 16*Количество_товаров_A2_B2 + 18*Количество_товаров_A2_B3 + 9*Количество_товаров_A2_B4 + 14*Количество_товаров_A3_B1 + 23*Количество_товаров_A3_B2 + 12*Количество_товаров_A3_B3 + 7*Количество_товаров_A3_B4 + 0\n",
       "VARIABLES\n",
       "0 <= Количество_товаров_A1_B1 Integer\n",
       "0 <= Количество_товаров_A1_B2 Integer\n",
       "0 <= Количество_товаров_A1_B3 Integer\n",
       "0 <= Количество_товаров_A1_B4 Integer\n",
       "0 <= Количество_товаров_A2_B1 Integer\n",
       "0 <= Количество_товаров_A2_B2 Integer\n",
       "0 <= Количество_товаров_A2_B3 Integer\n",
       "0 <= Количество_товаров_A2_B4 Integer\n",
       "0 <= Количество_товаров_A3_B1 Integer\n",
       "0 <= Количество_товаров_A3_B2 Integer\n",
       "0 <= Количество_товаров_A3_B3 Integer\n",
       "0 <= Количество_товаров_A3_B4 Integer"
      ]
     },
     "execution_count": 22,
     "metadata": {},
     "output_type": "execute_result"
    }
   ],
   "source": [
    "Routes = [(w, b) for w in suppliers for b in consumers]\n",
    "goods = LpVariable.dicts(\"Количество_товаров\", (suppliers, consumers), 0, None, LpInteger)\n",
    "\n",
    "model += (\n",
    "    lpSum([goods[w][b] * tariffs[w][b] for (w, b) in Routes]),\n",
    "    \"Сумма_траспортировки\"\n",
    ")\n",
    "model"
   ]
  },
  {
   "cell_type": "markdown",
   "metadata": {},
   "source": [
    "### Задаю, а затем добавляю в модель:\n",
    "* Ограничения объема запаса у каждого поставщика\n",
    "* Ограничения потребности у каждого потребителя"
   ]
  },
  {
   "cell_type": "code",
   "execution_count": 23,
   "metadata": {},
   "outputs": [
    {
     "data": {
      "text/plain": [
       "Distribution_Problem:\n",
       "MINIMIZE\n",
       "16*Количество_товаров_A1_B1 + 18*Количество_товаров_A1_B2 + 9*Количество_товаров_A1_B3 + 1*Количество_товаров_A1_B4 + 13*Количество_товаров_A2_B1 + 16*Количество_товаров_A2_B2 + 18*Количество_товаров_A2_B3 + 9*Количество_товаров_A2_B4 + 14*Количество_товаров_A3_B1 + 23*Количество_товаров_A3_B2 + 12*Количество_товаров_A3_B3 + 7*Количество_товаров_A3_B4 + 0\n",
       "SUBJECT TO\n",
       "Сумма_товаров_поставщиков_A1: Количество_товаров_A1_B1\n",
       " + Количество_товаров_A1_B2 + Количество_товаров_A1_B3\n",
       " + Количество_товаров_A1_B4 <= 70\n",
       "\n",
       "Сумма_товаров_поставщиков_A2: Количество_товаров_A2_B1\n",
       " + Количество_товаров_A2_B2 + Количество_товаров_A2_B3\n",
       " + Количество_товаров_A2_B4 <= 50\n",
       "\n",
       "Сумма_товаров_поставщиков_A3: Количество_товаров_A3_B1\n",
       " + Количество_товаров_A3_B2 + Количество_товаров_A3_B3\n",
       " + Количество_товаров_A3_B4 <= 240\n",
       "\n",
       "Сумма_товаров_потребителей_B1: Количество_товаров_A1_B1\n",
       " + Количество_товаров_A2_B1 + Количество_товаров_A3_B1 = 100\n",
       "\n",
       "Сумма_товаров_потребителей_B2: Количество_товаров_A1_B2\n",
       " + Количество_товаров_A2_B2 + Количество_товаров_A3_B2 = 10\n",
       "\n",
       "Сумма_товаров_потребителей_B3: Количество_товаров_A1_B3\n",
       " + Количество_товаров_A2_B3 + Количество_товаров_A3_B3 = 70\n",
       "\n",
       "Сумма_товаров_потребителей_B4: Количество_товаров_A1_B4\n",
       " + Количество_товаров_A2_B4 + Количество_товаров_A3_B4 = 160\n",
       "\n",
       "VARIABLES\n",
       "0 <= Количество_товаров_A1_B1 Integer\n",
       "0 <= Количество_товаров_A1_B2 Integer\n",
       "0 <= Количество_товаров_A1_B3 Integer\n",
       "0 <= Количество_товаров_A1_B4 Integer\n",
       "0 <= Количество_товаров_A2_B1 Integer\n",
       "0 <= Количество_товаров_A2_B2 Integer\n",
       "0 <= Количество_товаров_A2_B3 Integer\n",
       "0 <= Количество_товаров_A2_B4 Integer\n",
       "0 <= Количество_товаров_A3_B1 Integer\n",
       "0 <= Количество_товаров_A3_B2 Integer\n",
       "0 <= Количество_товаров_A3_B3 Integer\n",
       "0 <= Количество_товаров_A3_B4 Integer"
      ]
     },
     "execution_count": 23,
     "metadata": {},
     "output_type": "execute_result"
    }
   ],
   "source": [
    "for w in suppliers:\n",
    "    model += (\n",
    "        lpSum([goods[w][b] for b in consumers]) <= supply[w],\n",
    "        \"Сумма_товаров_поставщиков_%s\" % w\n",
    "    )\n",
    "    \n",
    "for b in consumers:\n",
    "    model += (\n",
    "        lpSum([goods[w][b] for w in suppliers]) == needs[b],\n",
    "        \"Сумма_товаров_потребителей_%s\" % b\n",
    "    )\n",
    "\n",
    "model   "
   ]
  },
  {
   "cell_type": "markdown",
   "metadata": {},
   "source": [
    "### Результаты минимизации"
   ]
  },
  {
   "cell_type": "code",
   "execution_count": 24,
   "metadata": {},
   "outputs": [],
   "source": [
    "status = model.solve()"
   ]
  },
  {
   "cell_type": "code",
   "execution_count": 25,
   "metadata": {},
   "outputs": [
    {
     "name": "stdout",
     "output_type": "stream",
     "text": [
      "Статус решения: 1, Optimal\n",
      "Количество_товаров_A1_B1 = 0.0\n",
      "Количество_товаров_A1_B2 = 0.0\n",
      "Количество_товаров_A1_B3 = 0.0\n",
      "Количество_товаров_A1_B4 = 70.0\n",
      "Количество_товаров_A2_B1 = 40.0\n",
      "Количество_товаров_A2_B2 = 10.0\n",
      "Количество_товаров_A2_B3 = 0.0\n",
      "Количество_товаров_A2_B4 = 0.0\n",
      "Количество_товаров_A3_B1 = 60.0\n",
      "Количество_товаров_A3_B2 = 0.0\n",
      "Количество_товаров_A3_B3 = 70.0\n",
      "Количество_товаров_A3_B4 = 90.0\n",
      "Оптимальное значение целевой функции = 3060.0\n"
     ]
    }
   ],
   "source": [
    "print(f\"Статус решения: {model.status}, {LpStatus[model.status]}\")\n",
    "\n",
    "for v in model.variables():\n",
    "    print(v.name, \"=\", v.varValue)\n",
    "\n",
    "print(f\"Оптимальное значение целевой функции = {value(model.objective)}\")"
   ]
  },
  {
   "cell_type": "markdown",
   "metadata": {},
   "source": [
    "### Оптимальный план и стоимость перевозки груза:"
   ]
  },
  {
   "cell_type": "code",
   "execution_count": 27,
   "metadata": {},
   "outputs": [],
   "source": [
    "obj = pd.Series([v.varValue for v in model.variables()])\n",
    "\n",
    "arr = obj.values\n",
    "\n",
    "reshaped_arr = arr.reshape((3, 4))"
   ]
  },
  {
   "cell_type": "code",
   "execution_count": 28,
   "metadata": {},
   "outputs": [
    {
     "name": "stdout",
     "output_type": "stream",
     "text": [
      "Оптимальная стоимость перевозки груза = 3060.0\n"
     ]
    },
    {
     "data": {
      "text/html": [
       "<div>\n",
       "<style scoped>\n",
       "    .dataframe tbody tr th:only-of-type {\n",
       "        vertical-align: middle;\n",
       "    }\n",
       "\n",
       "    .dataframe tbody tr th {\n",
       "        vertical-align: top;\n",
       "    }\n",
       "\n",
       "    .dataframe thead th {\n",
       "        text-align: right;\n",
       "    }\n",
       "</style>\n",
       "<table border=\"1\" class=\"dataframe\">\n",
       "  <thead>\n",
       "    <tr style=\"text-align: right;\">\n",
       "      <th></th>\n",
       "      <th>B1</th>\n",
       "      <th>B2</th>\n",
       "      <th>B3</th>\n",
       "      <th>B4</th>\n",
       "    </tr>\n",
       "  </thead>\n",
       "  <tbody>\n",
       "    <tr>\n",
       "      <th>A1</th>\n",
       "      <td>0.0</td>\n",
       "      <td>0.0</td>\n",
       "      <td>0.0</td>\n",
       "      <td>70.0</td>\n",
       "    </tr>\n",
       "    <tr>\n",
       "      <th>A2</th>\n",
       "      <td>40.0</td>\n",
       "      <td>10.0</td>\n",
       "      <td>0.0</td>\n",
       "      <td>0.0</td>\n",
       "    </tr>\n",
       "    <tr>\n",
       "      <th>A3</th>\n",
       "      <td>60.0</td>\n",
       "      <td>0.0</td>\n",
       "      <td>70.0</td>\n",
       "      <td>90.0</td>\n",
       "    </tr>\n",
       "  </tbody>\n",
       "</table>\n",
       "</div>"
      ],
      "text/plain": [
       "      B1    B2    B3    B4\n",
       "A1   0.0   0.0   0.0  70.0\n",
       "A2  40.0  10.0   0.0   0.0\n",
       "A3  60.0   0.0  70.0  90.0"
      ]
     },
     "execution_count": 28,
     "metadata": {},
     "output_type": "execute_result"
    }
   ],
   "source": [
    "df = pd.DataFrame(reshaped_arr, index=suppliers, columns=consumers)\n",
    "print(f\"Оптимальная стоимость перевозки груза = {value(model.objective)}\")\n",
    "df"
   ]
  },
  {
   "cell_type": "code",
   "execution_count": null,
   "metadata": {},
   "outputs": [],
   "source": []
  }
 ],
 "metadata": {
  "kernelspec": {
   "display_name": "Python 3",
   "language": "python",
   "name": "python3"
  },
  "language_info": {
   "codemirror_mode": {
    "name": "ipython",
    "version": 3
   },
   "file_extension": ".py",
   "mimetype": "text/x-python",
   "name": "python",
   "nbconvert_exporter": "python",
   "pygments_lexer": "ipython3",
   "version": "3.8.3"
  }
 },
 "nbformat": 4,
 "nbformat_minor": 4
}
