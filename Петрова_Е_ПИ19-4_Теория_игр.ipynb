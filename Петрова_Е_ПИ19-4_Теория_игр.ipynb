{
 "cells": [
  {
   "cell_type": "markdown",
   "metadata": {
    "pycharm": {
     "name": "#%%\n"
    }
   },
   "source": [
    "### Импорты:"
   ]
  },
  {
   "cell_type": "code",
   "execution_count": 27,
   "metadata": {},
   "outputs": [],
   "source": [
    "#!pip install nashpy --user"
   ]
  },
  {
   "cell_type": "code",
   "execution_count": 28,
   "metadata": {},
   "outputs": [],
   "source": [
    "import numpy as np\n",
    "import pandas as pd\n",
    "from pulp import LpProblem, LpMinimize, LpVariable, LpMaximize\n",
    "import matplotlib.pyplot as plt\n",
    "import nashpy as nash"
   ]
  },
  {
   "cell_type": "code",
   "execution_count": 29,
   "metadata": {
    "pycharm": {
     "name": "#%%\n"
    }
   },
   "outputs": [],
   "source": [
    "X = np.vectorize(lambda x, y: x >= y)\n",
    "Y = np.vectorize(lambda x, y: x <= y)"
   ]
  },
  {
   "cell_type": "code",
   "execution_count": 30,
   "metadata": {},
   "outputs": [],
   "source": [
    "def simplex_method(Matrix, F_type, C_type_f):\n",
    "    model = LpProblem(\"Game\", F_type)\n",
    "    variables_list = []\n",
    "\n",
    "    for i in range(Matrix.shape[0]):\n",
    "        variable = LpVariable(f'variable{i+1}', lowBound=0)\n",
    "        variables_list.append(variable)\n",
    "\n",
    "    variables_list = np.array(variables_list)\n",
    "\n",
    "    variable_sum = (variables_list).sum()\n",
    "    constraint_list = C_type_f((Matrix * variables_list).sum(axis=1), 1)\n",
    "\n",
    "    model += variable_sum\n",
    "    \n",
    "    for constraint in constraint_list:\n",
    "        model += constraint\n",
    "\n",
    "    model.solve()\n",
    "\n",
    "    optimal_plan = np.array(list(map(lambda x: x.value(), model.variables())))\n",
    "\n",
    "    price_optimal = 1 / optimal_plan.sum()\n",
    "    optimal_plan = optimal_plan / optimal_plan.sum()\n",
    "    return optimal_plan, price_optimal"
   ]
  },
  {
   "cell_type": "markdown",
   "metadata": {
    "pycharm": {
     "name": "#%% md\n"
    }
   },
   "source": [
    "## 1. Решение задачи о нахождении выигрышной стратегии для антагонистической игры:"
   ]
  },
  {
   "cell_type": "markdown",
   "metadata": {},
   "source": [
    "#### Ввожу данные, как в условии и пишу функцию:"
   ]
  },
  {
   "cell_type": "code",
   "execution_count": 31,
   "metadata": {},
   "outputs": [],
   "source": [
    "strategies_A = ['Телефоны','Ноутбуки', 'ПК']\n",
    "strategies_B = ['Телефоны', 'Наушники', 'Ноутбуки']"
   ]
  },
  {
   "cell_type": "code",
   "execution_count": 32,
   "metadata": {},
   "outputs": [],
   "source": [
    "Matrix = np.array([\n",
    "    [300, 280, 230],\n",
    "    [200, 180, 130],\n",
    "    [240, 380, 400]\n",
    "])"
   ]
  },
  {
   "cell_type": "code",
   "execution_count": 33,
   "metadata": {
    "pycharm": {
     "name": "#%%\n"
    }
   },
   "outputs": [],
   "source": [
    "def matrix_game(strategies_A, strategies_B, Matrix):\n",
    "    worst_response_scenarios_A = Matrix.min(axis=1)\n",
    "    worst_response_scenarios_B = Matrix.max(axis=0)\n",
    "    opt_strategy_A = worst_response_scenarios_A.argmax() # alpha - нижняя цена игры (максимин) - Это максимальный выигрыш игрока A\n",
    "    opt_strategy_B = worst_response_scenarios_B.argmin() # beta - верхняя цена игры (минимакс) - Это максимальный проигрыш игрока В\n",
    "\n",
    "    optimal_plan, price_optimal = simplex_method(Matrix, LpMaximize, Y)\n",
    "\n",
    "    result = f'Оптимальная чистая стратегия для игрока А: №{opt_strategy_A + 1} - {strategies_A[opt_strategy_A]}\\n' \\\n",
    "      f'Цена игры для игрока А при выборе чистой оптимальной стратегии:  {worst_response_scenarios_A[opt_strategy_A]}\\n' \\\n",
    "      f'Оптимальная чистая стратегия для игрока Б: №{opt_strategy_B + 1} - {strategies_B[opt_strategy_B]}\\n' \\\n",
    "      f'Цена игры для игрока Б при выборе чистой оптимальной стратегии: {worst_response_scenarios_B[opt_strategy_B]}\\n' \\\n",
    "      f'Таблица смешанных стратегий для игрока А: {optimal_plan}\\n' \\\n",
    "      f'Цена игры для игрока А при выборе смешанной оптимальной стратегии: {price_optimal}'\n",
    "    print(result)"
   ]
  },
  {
   "cell_type": "markdown",
   "metadata": {},
   "source": [
    "## Результат для 1 задачи:"
   ]
  },
  {
   "cell_type": "code",
   "execution_count": 34,
   "metadata": {
    "pycharm": {
     "name": "#%%\n"
    }
   },
   "outputs": [
    {
     "name": "stdout",
     "output_type": "stream",
     "text": [
      "Оптимальная чистая стратегия для игрока А: №3 - ПК\n",
      "Цена игры для игрока А при выборе чистой оптимальной стратегии:  240\n",
      "Оптимальная чистая стратегия для игрока Б: №1 - Телефоны\n",
      "Цена игры для игрока Б при выборе чистой оптимальной стратегии: 300\n",
      "Таблица смешанных стратегий для игрока А: [0.73913043 0.         0.26086957]\n",
      "Цена игры для игрока А при выборе смешанной оптимальной стратегии: 281.73912932742536\n"
     ]
    }
   ],
   "source": [
    "matrix_game(strategies_A, strategies_B, Matrix)"
   ]
  },
  {
   "cell_type": "markdown",
   "metadata": {
    "pycharm": {
     "name": "#%% md\n"
    }
   },
   "source": [
    "## 2. Решение задачи о нахождении выигрышной стратегии для биматричной игры:"
   ]
  },
  {
   "cell_type": "code",
   "execution_count": 35,
   "metadata": {},
   "outputs": [],
   "source": [
    "strategies_A = ['Телефоны','Ноутбуки', 'ПК']\n",
    "strategies_B = ['Телефоны', 'Наушники', 'Ноутбуки']"
   ]
  },
  {
   "cell_type": "code",
   "execution_count": 36,
   "metadata": {},
   "outputs": [],
   "source": [
    "Matrix_A = np.array([\n",
    "    [300, 280, 230],\n",
    "    [200, 180, 130],\n",
    "    [240, 380, 400],\n",
    "])"
   ]
  },
  {
   "cell_type": "code",
   "execution_count": 37,
   "metadata": {},
   "outputs": [],
   "source": [
    "Matrix_B = np.array([\n",
    "    [180, 110, 240],\n",
    "    [120, 160, 210],\n",
    "    [300, 140, 250],\n",
    "])"
   ]
  },
  {
   "cell_type": "code",
   "execution_count": 56,
   "metadata": {
    "pycharm": {
     "name": "#%%\n"
    }
   },
   "outputs": [],
   "source": [
    "def bimatrix_game(strategies_A, strategies_B, Matrix_A, Matrix_B):\n",
    "    best_scenarios_A = Matrix_A.max(axis=0)\n",
    "    \n",
    "    worst_from_best_scenarios_A = best_scenarios_A.argmin()\n",
    "    worst_scenarios_B = Matrix_B.min(axis=0)\n",
    "    \n",
    "    best_from_worst_scenarios_B = worst_scenarios_B.argmax()\n",
    "    \n",
    "    price_A = best_scenarios_A[worst_from_best_scenarios_A]\n",
    "    price_B = worst_scenarios_B[best_from_worst_scenarios_B]\n",
    "    price_sum = price_A + price_B\n",
    "\n",
    "    table_strategies_A = simplex_method(Matrix_B, LpMinimize, X)[0]\n",
    "    table_strategies_B = simplex_method(Matrix_A, LpMaximize, Y)[0]\n",
    "\n",
    "    price_optimal_A = ((table_strategies_A * Matrix_A.T).T * table_strategies_B).sum()\n",
    "    price_optimal_B = ((table_strategies_A * Matrix_B.T).T * table_strategies_B).sum()\n",
    "    price_optimal_sum = price_optimal_A + price_optimal_B\n",
    "\n",
    "\n",
    "    nash_balances = list(nash.Game(Matrix_A, Matrix_B).support_enumeration())\n",
    "\n",
    "    result = f\"Оптимальная чистая стратегия для игрока А: №{worst_from_best_scenarios_A + 1} - {strategies_A[worst_from_best_scenarios_A]}\\n\" \\\n",
    "          f\"Цена игры для игрока А при выборе чистой оптимальной стратегии: {price_A}\\n\" \\\n",
    "          f\"Оптимальная чистая стратегия для игрока Б: №{best_from_worst_scenarios_B + 1} - {strategies_B[best_from_worst_scenarios_B]}\\n\" \\\n",
    "          f\"Цена игры для игрока Б при выборе чистой оптимальной стратегии: {price_B}\\n\" \\\n",
    "          f\"Общая (суммарная) цена игры: {price_sum}\\n\" \\\n",
    "          f\"Количество равновесий по Нэшу: {1-len(nash_balances)}\\n\" \\\n",
    "          f\"Таблица смешанных стратегий для компании А: {table_strategies_A}\\n\" \\\n",
    "          f\"Цена игры для игрока А при выборе смешанной оптимальной стратегии: {price_optimal_A}\\n\" \\\n",
    "          f\"Таблица смешанных стратегий для компании Б: {table_strategies_B}\\n\" \\\n",
    "          f\"Цена игры для игрока Б при выборе смешанной оптимальной стратегии: {price_optimal_B}\\n\" \\\n",
    "          f\"Общая цена игры в случае использования оптимальных стратегий: {price_optimal_sum}\\n\"\n",
    "    print(result)"
   ]
  },
  {
   "cell_type": "markdown",
   "metadata": {},
   "source": [
    "## Результат для 2 задачи:"
   ]
  },
  {
   "cell_type": "code",
   "execution_count": 57,
   "metadata": {
    "pycharm": {
     "name": "#%%\n"
    }
   },
   "outputs": [
    {
     "name": "stdout",
     "output_type": "stream",
     "text": [
      "Оптимальная чистая стратегия для игрока А: №1 - Телефоны\n",
      "Цена игры для игрока А при выборе чистой оптимальной стратегии: 300\n",
      "Оптимальная чистая стратегия для игрока Б: №3 - Ноутбуки\n",
      "Цена игры для игрока Б при выборе чистой оптимальной стратегии: 210\n",
      "Общая (суммарная) цена игры: 510\n",
      "Количество равновесий по Нэшу: 0\n",
      "Таблица смешанных стратегий для компании А: [0. 0. 1.]\n",
      "Цена игры для игрока А при выборе смешанной оптимальной стратегии: 281.73913045438184\n",
      "Таблица смешанных стратегий для компании Б: [0.73913043 0.         0.26086957]\n",
      "Цена игры для игрока Б при выборе смешанной оптимальной стратегии: 286.9565217330057\n",
      "Общая цена игры в случае использования оптимальных стратегий: 568.6956521873875\n",
      "\n"
     ]
    }
   ],
   "source": [
    "bimatrix_game(strategies_A, strategies_B, Matrix_A, Matrix_B)"
   ]
  },
  {
   "cell_type": "markdown",
   "metadata": {
    "pycharm": {
     "name": "#%% md\n"
    }
   },
   "source": [
    "## 3. Решение задачи о принятии оптимального решения в условиях риска:"
   ]
  },
  {
   "cell_type": "code",
   "execution_count": 40,
   "metadata": {},
   "outputs": [],
   "source": [
    "strategies = [\"Продукты\", \"Косметика\", \"Одежда\", \"Бытовая химия\"]\n",
    "states = [\"Рецессия\", \"Стагнация\", \"Оживление\", \"Подъем\"]"
   ]
  },
  {
   "cell_type": "code",
   "execution_count": 41,
   "metadata": {},
   "outputs": [],
   "source": [
    "Matrix = np.array([\n",
    "    [50, 30, 35, 45],\n",
    "    [40, 40, 55, 40],\n",
    "    [35, 40, 45, 55],\n",
    "    [10, 20, 25, 35]\n",
    "])\n",
    "Probability = np.array([0.15, 0.25, 0.5, 0.1])"
   ]
  },
  {
   "cell_type": "code",
   "execution_count": 42,
   "metadata": {
    "pycharm": {
     "name": "#%%\n"
    }
   },
   "outputs": [],
   "source": [
    "def game_with_optimal_desicion(strategies, states, Matrix, Probability):\n",
    "    q = 1 / Probability.shape[0]\n",
    "    lapplas_criterion = (Matrix * q).sum(axis=1)\n",
    "    lapplas_criterion_opt_price = lapplas_criterion.max()\n",
    "    lapplas_criterion_opt = np.argwhere(lapplas_criterion == lapplas_criterion_opt_price).reshape(-1)\n",
    "    lapplas_criterion_opt_strategies = ', '.join(map(lambda x: f'№{x+1} - {strategies[x]}', lapplas_criterion_opt))\n",
    "\n",
    "    bayes_criterion = (Matrix * Probability).sum(axis=1)\n",
    "    bayes_criterion_opt = bayes_criterion.argmax()\n",
    "    bayes_criterion_opt_price = bayes_criterion[bayes_criterion_opt]\n",
    "\n",
    "    hermeyer_criterion = (Matrix * Probability).min(axis=1)\n",
    "    hermeyer_criterion_opt = hermeyer_criterion.argmax()\n",
    "    min_j = (Matrix * Probability).argmin(axis=1)[hermeyer_criterion_opt]\n",
    "    hermeyer_criterion_opt_price = hermeyer_criterion[hermeyer_criterion_opt]\n",
    "\n",
    "    mixed_opt, mixed_opt_price = simplex_method((Matrix * Probability).T, LpMinimize, X)\n",
    "\n",
    "    result = f\"Оптимальная стратегия игрока А по критерию Лапласа: {lapplas_criterion_opt_strategies}\\n\" \\\n",
    "      f\"Цена игры с оптимальной стратегии по критерию Лапласа: {lapplas_criterion_opt_price}\\n\" \\\n",
    "      f\"Оптимальная стратегия игрока А по критерию Баеса: №{bayes_criterion_opt + 1} - {strategies_A[bayes_criterion_opt]}\\n\" \\\n",
    "      f\"Цена игры с оптимальной стратегии по критерию Баеса: {bayes_criterion_opt_price}\\n\" \\\n",
    "      f\"Оптимальная чистая стратегия игрока А по критерию Гермейера: №{hermeyer_criterion_opt + 1} - {strategies_A[hermeyer_criterion_opt]}\\n\" \\\n",
    "      f\"Цена игры с оптимальной чистой стратегии по критерию Гермейера: {hermeyer_criterion_opt_price} / {Matrix[hermeyer_criterion_opt, min_j]}\\n\" \\\n",
    "      f\"Таблица оптимальных смешанных стратегий для игрока А по критерию Гермейера: {mixed_opt}\\n\" \\\n",
    "      f\"Цена игры для игрока А при выборе смешанной оптимальной стратегии по критерию Гермейера: {mixed_opt_price} / {((Matrix * Probability).T * mixed_opt).sum()}\\n\"\n",
    "    print(result)"
   ]
  },
  {
   "cell_type": "markdown",
   "metadata": {},
   "source": [
    "## Результат для 3 задачи:"
   ]
  },
  {
   "cell_type": "code",
   "execution_count": 43,
   "metadata": {
    "pycharm": {
     "name": "#%%\n"
    }
   },
   "outputs": [
    {
     "name": "stdout",
     "output_type": "stream",
     "text": [
      "Оптимальная стратегия игрока А по критерию Лапласа: №2 - Косметика, №3 - Одежда\n",
      "Цена игры с оптимальной стратегии по критерию Лапласа: 43.75\n",
      "Оптимальная стратегия игрока А по критерию Баеса: №2 - Ноутбуки\n",
      "Цена игры с оптимальной стратегии по критерию Баеса: 47.5\n",
      "Оптимальная чистая стратегия игрока А по критерию Гермейера: №3 - ПК\n",
      "Цена игры с оптимальной чистой стратегии по критерию Гермейера: 5.25 / 35\n",
      "Таблица оптимальных смешанных стратегий для игрока А по критерию Гермейера: [0.07692307 0.         0.92307693 0.        ]\n",
      "Цена игры для игрока А при выборе смешанной оптимальной стратегии по критерию Гермейера: 5.42307680898373 / 42.76923078487425\n",
      "\n"
     ]
    }
   ],
   "source": [
    "game_with_optimal_desicion(strategies, states, Matrix, Probability)"
   ]
  },
  {
   "cell_type": "markdown",
   "metadata": {
    "pycharm": {
     "name": "#%% md\n"
    }
   },
   "source": [
    "## 4.\tРешение задачи о принятии оптимального решения в условиях неопределенности:"
   ]
  },
  {
   "cell_type": "code",
   "execution_count": 44,
   "metadata": {
    "pycharm": {
     "name": "#%%\n"
    }
   },
   "outputs": [],
   "source": [
    "def game_with_uncertainty(strategies, states, Matrix, Probability):\n",
    "\n",
    "    pessimism_criterion = Matrix.min(axis=1)\n",
    "    pessimism_criterion_opt_price = pessimism_criterion.min()\n",
    "    pessimism_criterion_opt = np.argwhere(pessimism_criterion == pessimism_criterion_opt_price).reshape(-1)\n",
    "    pessimism_criterion_opt_strategies = ', '.join(map(lambda x: f'№{x+1} - {strategies[x]}', pessimism_criterion_opt))\n",
    "\n",
    "    optimism_criterion = Matrix.max(axis=1)\n",
    "    optimism_criterion_opt_price = optimism_criterion.max()\n",
    "    optimism_criterion_opt = np.argwhere(optimism_criterion == optimism_criterion_opt_price).reshape(-1)\n",
    "    optimism_criterion_opt_strategies = ', '.join(map(lambda x: f'№{x+1} - {strategies[x]}', optimism_criterion_opt))\n",
    "\n",
    "    \n",
    "    wald_criterion = Matrix.min(axis=1)\n",
    "    wald_criterion_opt_price = wald_criterion.max()\n",
    "    wald_criterion_opt = np.argwhere(wald_criterion == wald_criterion_opt_price).reshape(-1)\n",
    "    wald_criterion_opt_strategies = ', '.join(map(lambda x: f'№{x+1} - {strategies[x]}', wald_criterion_opt))\n",
    "\n",
    "    Matrix_risks = Matrix.max(axis=0) - Matrix\n",
    "    \n",
    "    savage_criterion = Matrix_risks.max(axis=1)\n",
    "    savage_criterion_opt_price = savage_criterion.min()\n",
    "    savage_criterion_opt = np.argwhere(savage_criterion == savage_criterion_opt_price).reshape(-1)\n",
    "    savage_criterion_opt_strategies = ', '.join(map(lambda x: f'№{x+1} - {strategies[x]}', savage_criterion_opt))\n",
    "    \n",
    "    A = list([f'A{i + 1}' for i in range(Matrix.shape[0])])\n",
    "\n",
    "    linear_convolution = pd.DataFrame(columns= A + ['max'], index=np.arange(0, 1 + 0.1, 0.1))\n",
    "\n",
    "    for alpha in linear_convolution.index:\n",
    "        linear_convolution.loc[alpha, A] = alpha * Matrix.max(axis=1) + (1 - alpha) * Matrix.min(axis=1)\n",
    "        \n",
    "    linear_convolution.index.name = \"alpha\"\n",
    "    linear_convolution['max'] = linear_convolution[A].max(axis=1)\n",
    "    \n",
    "    def show_diagram():\n",
    "        diagram = linear_convolution[A].plot.bar(figsize=(15, 15), color=['purple','orange','grey','red'])\n",
    "        diagram.set_xlabel(\"Величина склонности к риску\", fontsize=20)\n",
    "        diagram.set_ylabel(\"Цена игры\", fontsize=20)\n",
    "        plt.plot(10 * linear_convolution.index, linear_convolution['max'],label='max', color='green', linewidth=14)\n",
    "        plt.title(\"Гистограмма (диаграмма) максимумов линейной свертки по критерию Гурвица\",fontsize=30)\n",
    "        diagram.legend(bbox_to_anchor=(1, 1.01525), fontsize=25)\n",
    "        return diagram\n",
    "\n",
    "    result = f\"Оптимальная стратегия игрока А по критерию пессимизма: {pessimism_criterion_opt_strategies}\\n\" \\\n",
    "          f\"Цена игры оптимальной стратегии по критерию пессимизма: {pessimism_criterion_opt_price}\\n\" \\\n",
    "          f\"Оптимальная стратегия игрока А по критерию оптимизма: {optimism_criterion_opt_strategies} \\n\" \\\n",
    "          f\"Цена игры оптимальной стратегии по критерию оптимизма: {optimism_criterion_opt_price}\\n\" \\\n",
    "          f\"Оптимальная стратегия игрока А по критерию Вальда: {wald_criterion_opt_strategies}\\n\" \\\n",
    "          f\"Цена игры оптимальной стратегии по критерию Вальда: {wald_criterion_opt_price}\\n\" \\\n",
    "          f\"Линейная свертка склонности к риску по критерию Гурвица: \\n{linear_convolution}\\n\" \\\n",
    "          f\"Оптимальная стратегия игрока А по критерию Сэвиджа: {savage_criterion_opt_strategies}\\n\" \\\n",
    "          f\"Величина минимальной недополученной прибыли по критерию Сэвиджа: {savage_criterion[savage_criterion > savage_criterion_opt_price].min() - savage_criterion_opt_price}\\n\" \\\n",
    "          f\"\\n {show_diagram()} \\n\" \n",
    "    print(result)\n"
   ]
  },
  {
   "cell_type": "markdown",
   "metadata": {},
   "source": [
    "## Результат для 4 задачи:"
   ]
  },
  {
   "cell_type": "code",
   "execution_count": 45,
   "metadata": {
    "pycharm": {
     "name": "#%%\n"
    }
   },
   "outputs": [
    {
     "name": "stdout",
     "output_type": "stream",
     "text": [
      "Оптимальная стратегия игрока А по критерию пессимизма: №4 - Бытовая химия\n",
      "Цена игры оптимальной стратегии по критерию пессимизма: 10\n",
      "Оптимальная стратегия игрока А по критерию оптимизма: №2 - Косметика, №3 - Одежда \n",
      "Цена игры оптимальной стратегии по критерию оптимизма: 55\n",
      "Оптимальная стратегия игрока А по критерию Вальда: №2 - Косметика\n",
      "Цена игры оптимальной стратегии по критерию Вальда: 40\n",
      "Линейная свертка склонности к риску по критерию Гурвица: \n",
      "       A1    A2  A3    A4   max\n",
      "alpha                          \n",
      "0.0    30    40  35    10  40.0\n",
      "0.1    32  41.5  37  12.5  41.5\n",
      "0.2    34    43  39    15  43.0\n",
      "0.3    36  44.5  41  17.5  44.5\n",
      "0.4    38    46  43    20  46.0\n",
      "0.5    40  47.5  45  22.5  47.5\n",
      "0.6    42    49  47    25  49.0\n",
      "0.7    44  50.5  49  27.5  50.5\n",
      "0.8    46    52  51    30  52.0\n",
      "0.9    48  53.5  53  32.5  53.5\n",
      "1.0    50    55  55    35  55.0\n",
      "Оптимальная стратегия игрока А по критерию Сэвиджа: №2 - Косметика, №3 - Одежда\n",
      "Величина минимальной недополученной прибыли по критерию Сэвиджа: 5\n",
      "\n",
      " AxesSubplot(0.125,0.125;0.775x0.755) \n",
      "\n"
     ]
    },
    {
     "data": {
      "image/png": "[encoded data removed]",
      "text/plain": [
       "<Figure size 1080x1080 with 1 Axes>"
      ]
     },
     "metadata": {
      "needs_background": "light"
     },
     "output_type": "display_data"
    }
   ],
   "source": [
    "game_with_uncertainty(strategies, states, Matrix, Probability)"
   ]
  }
 ],
 "metadata": {
  "kernelspec": {
   "display_name": "Python 3",
   "language": "python",
   "name": "python3"
  },
  "language_info": {
   "codemirror_mode": {
    "name": "ipython",
    "version": 3
   },
   "file_extension": ".py",
   "mimetype": "text/x-python",
   "name": "python",
   "nbconvert_exporter": "python",
   "pygments_lexer": "ipython3",
   "version": "3.8.3"
  }
 },
 "nbformat": 4,
 "nbformat_minor": 1
}
